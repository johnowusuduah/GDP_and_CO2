{
 "cells": [
  {
   "cell_type": "markdown",
   "source": [
    "## Github Practice - Jupyter Notebook"
   ],
   "metadata": {}
  },
  {
   "cell_type": "code",
   "execution_count": null,
   "source": [
    "import pandas as pd"
   ],
   "outputs": [],
   "metadata": {}
  },
  {
   "cell_type": "code",
   "execution_count": 1,
   "source": [
    "x = [2,3,5]\n",
    "y = [6,4, 6]\n",
    "z = [ element * 2 for element in y]"
   ],
   "outputs": [],
   "metadata": {}
  }
 ],
 "metadata": {
  "orig_nbformat": 4,
  "language_info": {
   "name": "python",
   "version": "3.9.6",
   "mimetype": "text/x-python",
   "codemirror_mode": {
    "name": "ipython",
    "version": 3
   },
   "pygments_lexer": "ipython3",
   "nbconvert_exporter": "python",
   "file_extension": ".py"
  },
  "kernelspec": {
   "name": "python3",
   "display_name": "Python 3.9.6 64-bit ('base': conda)"
  },
  "interpreter": {
   "hash": "4108a426b5ff1cf0c3f9e42a60e388e26ffde303f3fcb1fc4ebd56ee317e54c9"
  }
 },
 "nbformat": 4,
 "nbformat_minor": 2
}