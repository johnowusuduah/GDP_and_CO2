{
 "cells": [
  {
   "cell_type": "markdown",
   "source": [
    "*Authors: John Owusu Duah and Sydney Donati-Leach*"
   ],
   "metadata": {}
  },
  {
   "cell_type": "code",
   "execution_count": null,
   "source": [
    "import pandas as pd "
   ],
   "outputs": [],
   "metadata": {}
  },
  {
   "cell_type": "markdown",
   "source": [
    "Exercise 1"
   ],
   "metadata": {}
  },
  {
   "cell_type": "code",
   "execution_count": null,
   "source": [
    "gdppercap = pd.Series([34605, 34493, 12393, 44200, 10041,\n",
    "                       58138, 4709, 49284, 10109, 42536],\n",
    "                      index=['Bahrain', 'Belgium', 'Bulgaria',\n",
    "                             'Ireland', 'Macedonia', 'Norway',\n",
    "                             'Paraguay', 'Singapore',\n",
    "                             'South Africa', 'Switzerland'])"
   ],
   "outputs": [],
   "metadata": {}
  },
  {
   "cell_type": "markdown",
   "source": [
    "Exercise 2"
   ],
   "metadata": {}
  },
  {
   "cell_type": "code",
   "execution_count": null,
   "source": [
    "gdppercap.describe()"
   ],
   "outputs": [
    {
     "output_type": "execute_result",
     "data": {
      "text/plain": [
       "count       10.000000\n",
       "mean     30050.800000\n",
       "std      19170.095217\n",
       "min       4709.000000\n",
       "25%      10680.000000\n",
       "50%      34549.000000\n",
       "75%      43784.000000\n",
       "max      58138.000000\n",
       "dtype: float64"
      ]
     },
     "metadata": {},
     "execution_count": 18
    }
   ],
   "metadata": {}
  },
  {
   "cell_type": "markdown",
   "source": [
    "Exercise 3"
   ],
   "metadata": {}
  },
  {
   "cell_type": "code",
   "execution_count": 10,
   "source": [
    "gdppercap.idxmax()"
   ],
   "outputs": [
    {
     "output_type": "execute_result",
     "data": {
      "text/plain": [
       "'Norway'"
      ]
     },
     "metadata": {},
     "execution_count": 10
    }
   ],
   "metadata": {}
  },
  {
   "cell_type": "markdown",
   "source": [
    "Exercise 4"
   ],
   "metadata": {}
  },
  {
   "cell_type": "code",
   "execution_count": 11,
   "source": [
    "gdppercap[gdppercap < 20000]"
   ],
   "outputs": [
    {
     "output_type": "execute_result",
     "data": {
      "text/plain": [
       "Bulgaria        12393\n",
       "Macedonia       10041\n",
       "Paraguay         4709\n",
       "South Africa    10109\n",
       "dtype: int64"
      ]
     },
     "metadata": {},
     "execution_count": 11
    }
   ],
   "metadata": {}
  },
  {
   "cell_type": "markdown",
   "source": [
    "Exercise 5"
   ],
   "metadata": {}
  },
  {
   "cell_type": "code",
   "execution_count": 12,
   "source": [
    "gdppercap.loc[\"Switzerland\"]"
   ],
   "outputs": [
    {
     "output_type": "execute_result",
     "data": {
      "text/plain": [
       "42536"
      ]
     },
     "metadata": {},
     "execution_count": 12
    }
   ],
   "metadata": {}
  },
  {
   "cell_type": "markdown",
   "source": [
    "Exercise 6"
   ],
   "metadata": {}
  },
  {
   "cell_type": "code",
   "execution_count": 40,
   "source": [
    "sorted_gdp = gdppercap.sort_values()\n",
    "sgdplist = sorted_gdp.tolist()\n",
    "n = len(sorted_gdp)\n",
    "sgdplist\n",
    "\n",
    "def top(sorted_gdp, sgdplist):\n",
    "    n = len(sorted_gdp)\n",
    "    i = 0\n",
    "    g = []\n",
    "    for rank in range(n):\n",
    "        i += 1\n",
    "        g.append(sgdplist[rank]*i)\n",
    "    return 2 * sum(g)\n",
    "\n"
   ],
   "outputs": [],
   "metadata": {}
  },
  {
   "cell_type": "code",
   "execution_count": 41,
   "source": [
    "top = top(sorted_gdp, sgdplist)\n",
    "bottom = n * sum(sgdplist)\n",
    "correction = (n + 1) / n\n",
    "gini_coefficient = (top/bottom) - correction\n",
    "gini_coefficient"
   ],
   "outputs": [
    {
     "output_type": "execute_result",
     "data": {
      "text/plain": [
       "0.3382798461272245"
      ]
     },
     "metadata": {},
     "execution_count": 41
    }
   ],
   "metadata": {}
  },
  {
   "cell_type": "markdown",
   "source": [
    "Exercise 7"
   ],
   "metadata": {}
  },
  {
   "cell_type": "code",
   "execution_count": 43,
   "source": [
    "avg_growth = pd.Series([-0.29768835, 0.980299584, 4.52991925,\n",
    "                        3.686556736, 2.621416804, 0.775132075,\n",
    "                        2.015489468, 3.345793635, 1.349993318,\n",
    "                        0.982775018],\n",
    "                        index=['Bahrain', 'Belgium', 'Bulgaria',\n",
    "                               'Ireland', 'Macedonia', 'Norway',\n",
    "                               'Paraguay', 'Singapore',\n",
    "                               'South Africa', 'Switzerland']\n",
    "                      )\n",
    "\n",
    "futuregdp = gdppercap*(1+ avg_growth)**17\n",
    "futuregdp\n"
   ],
   "outputs": [
    {
     "output_type": "execute_result",
     "data": {
      "text/plain": [
       "Bahrain         8.514256e+01\n",
       "Belgium         3.820817e+09\n",
       "Bulgaria        5.240779e+16\n",
       "Ireland         1.121859e+16\n",
       "Macedonia       3.182084e+13\n",
       "Norway          1.003186e+09\n",
       "Paraguay        6.637607e+11\n",
       "Singapore       3.466416e+15\n",
       "South Africa    2.055137e+10\n",
       "Switzerland     4.812881e+09\n",
       "dtype: float64"
      ]
     },
     "metadata": {},
     "execution_count": 43
    }
   ],
   "metadata": {}
  },
  {
   "cell_type": "code",
   "execution_count": 49,
   "source": [
    "future_sorted_gdp = futuregdp.sort_values()\n",
    "fsgdplist = future_sorted_gdp.tolist()\n",
    "n = len(future_sorted_gdp)\n",
    "\n",
    "def top(future_sorted_gdp, fsgdplist):\n",
    "    n = len(future_sorted_gdp)\n",
    "    i = 0\n",
    "    g = []\n",
    "    for rank in range(n):\n",
    "        i += 1\n",
    "        g.append(fsgdplist[rank]*i)\n",
    "    return 2 * sum(g)\n",
    "\n",
    "ftop = top(future_sorted_gdp, fsgdplist)\n",
    "fbottom = n * sum(fsgdplist)\n",
    "fcorrection = (n + 1) / n\n",
    "fgini_coefficient = (ftop/fbottom) - fcorrection\n",
    "fgini_coefficient"
   ],
   "outputs": [
    {
     "output_type": "execute_result",
     "data": {
      "text/plain": [
       "0.845624971796181"
      ]
     },
     "metadata": {},
     "execution_count": 49
    }
   ],
   "metadata": {}
  },
  {
   "cell_type": "markdown",
   "source": [
    "Exercise 8"
   ],
   "metadata": {}
  },
  {
   "cell_type": "markdown",
   "source": [
    "We are not seeing convergence because income is in fact going to be more unequal in the future.  We know this because our gini coefficient is very close to 1."
   ],
   "metadata": {}
  }
 ],
 "metadata": {
  "orig_nbformat": 4,
  "language_info": {
   "name": "python",
   "version": "3.9.6",
   "mimetype": "text/x-python",
   "codemirror_mode": {
    "name": "ipython",
    "version": 3
   },
   "pygments_lexer": "ipython3",
   "nbconvert_exporter": "python",
   "file_extension": ".py"
  },
  "kernelspec": {
   "name": "python3",
   "display_name": "Python 3.9.6 64-bit ('base': conda)"
  },
  "interpreter": {
   "hash": "4108a426b5ff1cf0c3f9e42a60e388e26ffde303f3fcb1fc4ebd56ee317e54c9"
  }
 },
 "nbformat": 4,
 "nbformat_minor": 2
}